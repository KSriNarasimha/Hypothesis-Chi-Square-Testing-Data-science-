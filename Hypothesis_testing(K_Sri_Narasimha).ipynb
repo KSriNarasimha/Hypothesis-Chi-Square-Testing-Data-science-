{
  "nbformat": 4,
  "nbformat_minor": 0,
  "metadata": {
    "colab": {
      "provenance": []
    },
    "kernelspec": {
      "name": "python3",
      "display_name": "Python 3"
    },
    "language_info": {
      "name": "python"
    }
  },
  "cells": [
    {
      "cell_type": "markdown",
      "source": [
        "# **Hypothesis Testing**"
      ],
      "metadata": {
        "id": "nst-of-lFDJR"
      }
    },
    {
      "cell_type": "markdown",
      "source": [
        "# **1. State the Hypotheses Statement**\n",
        "\n",
        "**Null Hypothesis (\n",
        "𝐻\n",
        "0\n",
        "​\n",
        " )**: The observed mean weekly operating cost is equal to the theoretical mean operating cost. (\n",
        "𝑊\n",
        "=\n",
        "3050)\n",
        "\n",
        "**Alternative Hypothesis (\n",
        "𝐻\n",
        "1\n",
        " )**: The observed mean weekly operating cost is greater than the theoretical mean operating cost. (𝑊>3050)"
      ],
      "metadata": {
        "id": "kAaXm-0DHNik"
      }
    },
    {
      "cell_type": "markdown",
      "source": [
        "# **2. Calculate the Test Statistic**"
      ],
      "metadata": {
        "id": "FTmi4NUEIIn8"
      }
    },
    {
      "cell_type": "code",
      "source": [
        "#import basic libraries\n",
        "import numpy as np\n",
        "from scipy.stats import norm\n",
        "from scipy import stats # Import the stats module from scipy"
      ],
      "metadata": {
        "id": "NWLOOPkwIL_v"
      },
      "execution_count": null,
      "outputs": []
    },
    {
      "cell_type": "code",
      "source": [
        "# Given data\n",
        "sample_mean = 3050\n",
        "theoretical_mean = 1000 + 5 * 600  # W = $1,000 + $5 * 600\n",
        "std_dev = 5 * 25  # Standard deviation\n",
        "n = 25"
      ],
      "metadata": {
        "id": "RfSQo2GpIpWb"
      },
      "execution_count": null,
      "outputs": []
    },
    {
      "cell_type": "code",
      "source": [
        "# Calculate the test statistic\n",
        "\n",
        "# As the population standard deviation is not given we can't use Z-test (z-statistic) here, so we use t-test, t-statistic for hypothesis testing\n",
        "\n",
        "standard_error = std_dev / np.sqrt(n)\n",
        "t_statistic = (sample_mean - theoretical_mean) / standard_error\n"
      ],
      "metadata": {
        "id": "Yj2EBJAZIvFy"
      },
      "execution_count": null,
      "outputs": []
    },
    {
      "cell_type": "code",
      "source": [
        "t_statistic"
      ],
      "metadata": {
        "colab": {
          "base_uri": "https://localhost:8080/"
        },
        "id": "KSBdM4Z0I-mD",
        "outputId": "22ab49fe-fc39-4578-8b32-b10eec7a9666"
      },
      "execution_count": null,
      "outputs": [
        {
          "output_type": "execute_result",
          "data": {
            "text/plain": [
              "-38.0"
            ]
          },
          "metadata": {},
          "execution_count": 5
        }
      ]
    },
    {
      "cell_type": "code",
      "source": [
        "probability = stats.t.cdf(t_statistic, df=n-1)"
      ],
      "metadata": {
        "id": "DGzkKcpyLMxh"
      },
      "execution_count": null,
      "outputs": []
    },
    {
      "cell_type": "code",
      "source": [
        "probability"
      ],
      "metadata": {
        "colab": {
          "base_uri": "https://localhost:8080/"
        },
        "id": "UjSjzaEAQLiv",
        "outputId": "9d6bee53-28a3-41f3-a3ce-6c08274fb440"
      },
      "execution_count": null,
      "outputs": [
        {
          "output_type": "execute_result",
          "data": {
            "text/plain": [
              "2.9607810808177907e-23"
            ]
          },
          "metadata": {},
          "execution_count": 7
        }
      ]
    },
    {
      "cell_type": "markdown",
      "source": [
        "# **3. Determine the Critical Value**"
      ],
      "metadata": {
        "id": "Iyat5F_OKTdC"
      }
    },
    {
      "cell_type": "code",
      "source": [
        "alpha = 0.05\n",
        "critical_value = norm.ppf(1 - alpha)  # One-tailed\n",
        "# The critical Z value for 𝛼=0.05 (one-tailed) is approximately = 1.645"
      ],
      "metadata": {
        "id": "aAGILiNTKY8K"
      },
      "execution_count": null,
      "outputs": []
    },
    {
      "cell_type": "markdown",
      "source": [
        "For a one-tailed test at a significance level of\n",
        "𝛼\n",
        "=\n",
        "0.05\n",
        "and degrees of freedom (\n",
        "𝑑\n",
        "𝑓\n",
        "=\n",
        "𝑛\n",
        "−\n",
        "1\n",
        "=\n",
        "25\n",
        "−\n",
        "1\n",
        "=\n",
        "24\n",
        "), we can use a Z-table (since\n",
        "n is large) to find the critical value."
      ],
      "metadata": {
        "id": "K6d9_3JwOH3I"
      }
    },
    {
      "cell_type": "code",
      "source": [
        "critical_value"
      ],
      "metadata": {
        "colab": {
          "base_uri": "https://localhost:8080/"
        },
        "id": "mGE9G21sKhNI",
        "outputId": "e44d25df-5d60-4739-d23f-af3cd3b500c0"
      },
      "execution_count": null,
      "outputs": [
        {
          "output_type": "execute_result",
          "data": {
            "text/plain": [
              "1.6448536269514722"
            ]
          },
          "metadata": {},
          "execution_count": 9
        }
      ]
    },
    {
      "cell_type": "markdown",
      "source": [
        "# **4. Make a Decision**"
      ],
      "metadata": {
        "id": "C77UQ5GcOp-5"
      }
    },
    {
      "cell_type": "code",
      "source": [
        "# Print results\n",
        "print(f\"probability: {probability}\")\n",
        "print(f\"Critical Value: {critical_value}\")\n",
        "print(f\"alpha: {alpha}\")\n",
        "print(f\"t-statistic: {t_statistic}\")"
      ],
      "metadata": {
        "colab": {
          "base_uri": "https://localhost:8080/"
        },
        "id": "ZLvG8cSmKksr",
        "outputId": "21bbb66c-1792-4908-ca2e-22660bef4a17"
      },
      "execution_count": null,
      "outputs": [
        {
          "output_type": "stream",
          "name": "stdout",
          "text": [
            "probability: 2.9607810808177907e-23\n",
            "Critical Value: 1.6448536269514722\n",
            "alpha: 0.05\n",
            "t-statistic: -38.0\n"
          ]
        }
      ]
    },
    {
      "cell_type": "markdown",
      "source": [
        "#**Method -1**"
      ],
      "metadata": {
        "id": "W8nobAxfAEfF"
      }
    },
    {
      "cell_type": "code",
      "source": [
        "# We can make Decision by comparing t-statistics with the Critical value\n",
        "\n",
        "if t_statistic < critical_value:\n",
        "    print(\"Reject the null hypothesis: There is strong evidence to support the claim.\")\n",
        "else:\n",
        "    print(\"Fail to reject the null hypothesis: There is not enough evidence to support the claim.\")"
      ],
      "metadata": {
        "colab": {
          "base_uri": "https://localhost:8080/"
        },
        "id": "gdkWMcdIAB8k",
        "outputId": "cbd8bd36-9be3-496e-ef3e-79d5ca57b0f8"
      },
      "execution_count": null,
      "outputs": [
        {
          "output_type": "stream",
          "name": "stdout",
          "text": [
            "Reject the null hypothesis: There is strong evidence to support the claim.\n"
          ]
        }
      ]
    },
    {
      "cell_type": "markdown",
      "source": [
        "# **Method-2**"
      ],
      "metadata": {
        "id": "BF4YcJzQBP5e"
      }
    },
    {
      "cell_type": "code",
      "source": [
        "# We can make Decision by comparing Probability (P-Value) with the Significance level (Alpha)\n",
        "\n",
        "if probability < alpha:\n",
        "    print(\"Reject the null hypothesis: There is strong evidence to support the claim.\")\n",
        "else:\n",
        "    print(\"Fail to reject the null hypothesis: There is not enough evidence to support the claim.\")"
      ],
      "metadata": {
        "colab": {
          "base_uri": "https://localhost:8080/"
        },
        "id": "ASktPiKIQc0n",
        "outputId": "3ad7bd49-1293-49c2-903d-0003a502e982"
      },
      "execution_count": null,
      "outputs": [
        {
          "output_type": "stream",
          "name": "stdout",
          "text": [
            "Reject the null hypothesis: There is strong evidence to support the claim.\n"
          ]
        }
      ]
    },
    {
      "cell_type": "markdown",
      "source": [
        "# **5. Conclusion**"
      ],
      "metadata": {
        "id": "wwOPsIYOQ1Jh"
      }
    },
    {
      "cell_type": "markdown",
      "source": [
        "**Reject the null hypothesis: There is strong evidence to support the claim that the weekly operating costs are higher than the model suggests**"
      ],
      "metadata": {
        "id": "iJgkS7wlQ7bq"
      }
    }
  ]
}